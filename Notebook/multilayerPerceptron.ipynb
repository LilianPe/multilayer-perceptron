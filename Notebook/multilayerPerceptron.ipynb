{
 "cells": [
  {
   "cell_type": "markdown",
   "id": "ddcd7c0b",
   "metadata": {},
   "source": [
    "# Imports"
   ]
  },
  {
   "cell_type": "code",
   "execution_count": 10,
   "id": "0c58a4a3",
   "metadata": {},
   "outputs": [],
   "source": [
    "import os\n",
    "import pandas\n",
    "import matplotlib.pyplot as plt\n",
    "import seaborn as sns\n",
    "import numpy as np"
   ]
  },
  {
   "cell_type": "markdown",
   "id": "365cf94b",
   "metadata": {},
   "source": [
    "# Parsing data"
   ]
  },
  {
   "cell_type": "code",
   "execution_count": 19,
   "id": "f88c81bf",
   "metadata": {},
   "outputs": [
    {
     "name": "stdout",
     "output_type": "stream",
     "text": [
      "(569, 30)\n",
      "(569,)\n"
     ]
    }
   ],
   "source": [
    "data = pandas.read_csv(\"../data/dataNames.csv\", header=0)\n",
    "X = data.iloc[:, 2:] # La data sans id et diagnosis\n",
    "Y = data['Diagnosis'].map({'B': 0, 'M': 1})\n",
    "\n",
    "# numpy arrays :\n",
    "X = X.to_numpy()\n",
    "Y = Y.to_numpy()\n",
    "\n",
    "print(X.shape)\n",
    "print(Y.shape)"
   ]
  },
  {
   "cell_type": "markdown",
   "id": "b6043d8c",
   "metadata": {},
   "source": [
    "# Creating perceptron"
   ]
  },
  {
   "cell_type": "code",
   "execution_count": 28,
   "id": "d6d40376",
   "metadata": {},
   "outputs": [],
   "source": [
    "class MultilayerPerceptron :\n",
    "    def __init__(self, X):\n",
    "        W = np.random.randn(X.shape[1], 1)\n",
    "        b = np.random.randn(1)\n"
   ]
  },
  {
   "cell_type": "markdown",
   "id": "edb5c746",
   "metadata": {},
   "source": [
    "# Testing perceptron"
   ]
  },
  {
   "cell_type": "code",
   "execution_count": 29,
   "id": "ce20f8ab",
   "metadata": {},
   "outputs": [],
   "source": [
    "m = MultilayerPerceptron(X)"
   ]
  }
 ],
 "metadata": {
  "kernelspec": {
   "display_name": ".venv",
   "language": "python",
   "name": "python3"
  },
  "language_info": {
   "codemirror_mode": {
    "name": "ipython",
    "version": 3
   },
   "file_extension": ".py",
   "mimetype": "text/x-python",
   "name": "python",
   "nbconvert_exporter": "python",
   "pygments_lexer": "ipython3",
   "version": "3.12.3"
  }
 },
 "nbformat": 4,
 "nbformat_minor": 5
}
