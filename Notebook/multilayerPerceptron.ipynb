{
 "cells": [
  {
   "cell_type": "markdown",
   "id": "ddcd7c0b",
   "metadata": {},
   "source": [
    "# Imports"
   ]
  },
  {
   "cell_type": "code",
   "execution_count": 54,
   "id": "0c58a4a3",
   "metadata": {},
   "outputs": [],
   "source": [
    "import os\n",
    "import pandas\n",
    "import matplotlib.pyplot as plt\n",
    "import seaborn as sns\n",
    "import numpy as np\n",
    "from sklearn.preprocessing import StandardScaler\n",
    "from sklearn.model_selection import train_test_split"
   ]
  },
  {
   "cell_type": "markdown",
   "id": "9bbef29a",
   "metadata": {},
   "source": [
    "# Creation des fichiers separes"
   ]
  },
  {
   "cell_type": "code",
   "execution_count": 60,
   "id": "4b08d80d",
   "metadata": {},
   "outputs": [
    {
     "name": "stdout",
     "output_type": "stream",
     "text": [
      "10912\n",
      "7296\n"
     ]
    }
   ],
   "source": [
    "data = pandas.read_csv(\"../data/dataNames.csv\", header=0)\n",
    "\n",
    "train_df, test_df = train_test_split(data, test_size=0.4, random_state=42)\n",
    "\n",
    "print(train_df.size)\n",
    "print(test_df.size)\n",
    "\n",
    "train_df.to_csv(\"../data/train_data.csv\", index=False)\n",
    "test_df.to_csv(\"../data/test_data.csv\", index=False)\n"
   ]
  },
  {
   "cell_type": "markdown",
   "id": "365cf94b",
   "metadata": {},
   "source": [
    "# Parsing data"
   ]
  },
  {
   "cell_type": "code",
   "execution_count": 61,
   "id": "f88c81bf",
   "metadata": {},
   "outputs": [
    {
     "name": "stdout",
     "output_type": "stream",
     "text": [
      "(341, 30)\n",
      "(341, 1)\n",
      "(228, 30)\n",
      "(228, 1)\n"
     ]
    }
   ],
   "source": [
    "train_data = pandas.read_csv(\"../data/train_data.csv\", header=0)\n",
    "test_data = pandas.read_csv(\"../data/test_data.csv\", header=0)\n",
    "train_X = train_data.iloc[:, 2:] # La data sans id et diagnosis\n",
    "train_Y = train_data['Diagnosis'].map({'B': 0, 'M': 1})\n",
    "test_X = test_data.iloc[:, 2:] # La data sans id et diagnosis\n",
    "test_Y = test_data['Diagnosis'].map({'B': 0, 'M': 1})\n",
    "\n",
    "# numpy arrays :\n",
    "train_X = train_X.to_numpy()\n",
    "train_Y = train_Y.to_numpy().reshape(-1, 1)\n",
    "test_X = test_X.to_numpy()\n",
    "test_Y = test_Y.to_numpy().reshape(-1, 1)\n",
    "\n",
    "# Normalisation des donnees\n",
    "scaler = StandardScaler()\n",
    "X_scaled = scaler.fit_transform(train_X)\n",
    "\n",
    "\n",
    "print(train_X.shape)\n",
    "print(train_Y.shape)\n",
    "print(test_X.shape)\n",
    "print(test_Y.shape)"
   ]
  },
  {
   "cell_type": "markdown",
   "id": "b6043d8c",
   "metadata": {},
   "source": [
    "# Creating perceptron"
   ]
  },
  {
   "cell_type": "code",
   "execution_count": 62,
   "id": "d6d40376",
   "metadata": {},
   "outputs": [],
   "source": [
    "class MultilayerPerceptron :\n",
    "\tdef __init__(self, X, Y):\n",
    "\t\tself.W = np.random.randn(X.shape[1], 1)\n",
    "\t\tself.b = np.random.randn(1)\n",
    "\t\tself.X = X\n",
    "\t\tself.Y = Y\n",
    "\n",
    "\tdef model(self) :\n",
    "\t\tself.Z = self.X.dot(self.W) + self.b\n",
    "\t\tself.A = 1 / (1 + np.exp(-self.Z))\n",
    "\n",
    "\tdef predict(self, X) :\n",
    "\t\tZ = X.dot(self.W) + self.b\n",
    "\t\tA = 1 / (1 + np.exp(-Z))\n",
    "\t\treturn A\n",
    "\n",
    "\tdef log_loss(self) :\n",
    "\t\tself.model()\n",
    "\t\teps = 1e-15 \n",
    "\t\tA_clipped = np.clip(self.A, eps, 1 - eps) # pour éviter log(0) (empeche les valeures d'etre en dehors de l'interval 𝐴∈[10**−15,1−10**−15]\n",
    "\t\tresult = -1 / self.X.shape[0] * np.sum(self.Y * np.log(A_clipped) + (1 - self.Y) * np.log(1 - A_clipped))\n",
    "\t\treturn result\n",
    "\n",
    "\tdef gradient_descent(self, learning_rate) :\n",
    "\t\tself.model()\n",
    "\t\tself.W -= learning_rate * (-1/self.X.shape[0] * np.dot(self.X.T, self.Y - self.A))\n",
    "\t\tself.b -= learning_rate * (-1/self.X.shape[0] * np.sum(self.Y - self.A))\n",
    "\n",
    "# Revoir la vectorisation des differentes equations et noter dans la doc leur origine"
   ]
  },
  {
   "cell_type": "markdown",
   "id": "edb5c746",
   "metadata": {},
   "source": [
    "# Testing perceptron"
   ]
  },
  {
   "cell_type": "code",
   "execution_count": 63,
   "id": "ce20f8ab",
   "metadata": {},
   "outputs": [
    {
     "data": {
      "image/png": "[encoded data removed]",
      "text/plain": [
       "<Figure size 640x480 with 1 Axes>"
      ]
     },
     "metadata": {},
     "output_type": "display_data"
    }
   ],
   "source": [
    "m = MultilayerPerceptron(X_scaled, train_Y)\n",
    "Loss = []\n",
    "m.model()\n",
    "Loss.append(m.log_loss())\n",
    "for _ in range(0, 1000) :\n",
    "\tm.gradient_descent(0.5)\n",
    "\t# print(m.log_loss())\n",
    "\tLoss.append(m.log_loss())\n",
    "plt.plot(Loss)\n",
    "plt.show()\n"
   ]
  },
  {
   "cell_type": "markdown",
   "id": "edc22172",
   "metadata": {},
   "source": [
    "# Fonction accuracy"
   ]
  },
  {
   "cell_type": "code",
   "execution_count": 66,
   "id": "3294b404",
   "metadata": {},
   "outputs": [
    {
     "name": "stdout",
     "output_type": "stream",
     "text": [
      "Accuracy:  99.12280701754386\n",
      "[[71  0]\n",
      " [ 1 42]]\n"
     ]
    }
   ],
   "source": [
    "def model_accuracy(p: MultilayerPerceptron, X, Y) :\n",
    "\tscaler = StandardScaler()\n",
    "\tX_scaled = scaler.fit_transform(X)\n",
    "\tA = p.predict(X_scaled)\n",
    "\t# print(A)\n",
    "\t# print(A.shape)\n",
    "\taccuracy: int = 0\n",
    "\tfor i in range(0, Y.shape[0]) :\n",
    "\t\tif (A[i] > 0.5) == Y[i] :\n",
    "\t\t\taccuracy += 1\n",
    "\tprint(\"Accuracy: \", accuracy / Y.shape[0] * 100)\n",
    "\n",
    "from sklearn.metrics import confusion_matrix\n",
    "\n",
    "def model_confusion(p: MultilayerPerceptron, X, Y):\n",
    "    scaler = StandardScaler()\n",
    "    X_scaled = scaler.fit_transform(X)\n",
    "    preds = (p.predict(X_scaled) > 0.5).astype(int)\n",
    "    print(confusion_matrix(Y, preds))\n",
    "\n",
    "model_accuracy(m, X_test, Y_test)\n",
    "model_confusion(m, X_test, Y_test)"
   ]
  }
 ],
 "metadata": {
  "kernelspec": {
   "display_name": ".venv",
   "language": "python",
   "name": "python3"
  },
  "language_info": {
   "codemirror_mode": {
    "name": "ipython",
    "version": 3
   },
   "file_extension": ".py",
   "mimetype": "text/x-python",
   "name": "python",
   "nbconvert_exporter": "python",
   "pygments_lexer": "ipython3",
   "version": "3.12.3"
  }
 },
 "nbformat": 4,
 "nbformat_minor": 5
}
